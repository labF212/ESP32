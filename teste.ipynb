{
  "nbformat": 4,
  "nbformat_minor": 0,
  "metadata": {
    "colab": {
      "name": "teste.ipynb",
      "provenance": [],
      "collapsed_sections": [],
      "authorship_tag": "ABX9TyMiV9z8MhP1BqTT9X+Z+Ir/",
      "include_colab_link": true
    },
    "kernelspec": {
      "name": "python3",
      "display_name": "Python 3"
    }
  },
  "cells": [
    {
      "cell_type": "markdown",
      "metadata": {
        "id": "view-in-github",
        "colab_type": "text"
      },
      "source": [
        "<a href=\"https://colab.research.google.com/github/labF212/ESP32/blob/master/teste.ipynb\" target=\"_parent\"><img src=\"https://colab.research.google.com/assets/colab-badge.svg\" alt=\"Open In Colab\"/></a>"
      ]
    },
    {
      "cell_type": "markdown",
      "metadata": {
        "id": "5bSJevjkWz3T",
        "colab_type": "text"
      },
      "source": [
        "#Olá seja bem vindo a este manual de python escrito em Jupyter.\n",
        "\n",
        "##Declaração de variáveis"
      ]
    },
    {
      "cell_type": "code",
      "metadata": {
        "id": "17ivLAvQmwIO",
        "colab_type": "code",
        "colab": {}
      },
      "source": [
        "a = 1\n",
        "b = 1.0"
      ],
      "execution_count": 0,
      "outputs": []
    },
    {
      "cell_type": "markdown",
      "metadata": {
        "id": "-3NN8w56X6FL",
        "colab_type": "text"
      },
      "source": [
        "\n",
        "\n",
        "*   a é um inteiro \n",
        "*   b é um decimal\n",
        "\n",
        "## Imprimir Variáveis\n",
        "\n",
        "\n"
      ]
    },
    {
      "cell_type": "code",
      "metadata": {
        "id": "fc30slNhX5Zh",
        "colab_type": "code",
        "outputId": "dbb2530d-e7a9-4980-bd29-830fe856ab16",
        "colab": {
          "base_uri": "https://localhost:8080/",
          "height": 69
        }
      },
      "source": [
        "print (a)\n",
        "print (b)\n",
        "print (a+b)"
      ],
      "execution_count": 3,
      "outputs": [
        {
          "output_type": "stream",
          "text": [
            "1\n",
            "1.0\n",
            "2.0\n"
          ],
          "name": "stdout"
        }
      ]
    },
    {
      "cell_type": "markdown",
      "metadata": {
        "id": "WNMXfSfuZlbb",
        "colab_type": "text"
      },
      "source": [
        "Como vemos a+b dá origem a um decimal.\n",
        "\n",
        "#Listas"
      ]
    },
    {
      "cell_type": "code",
      "metadata": {
        "id": "z6b13R3bZ4K2",
        "colab_type": "code",
        "outputId": "b86e04d5-a38e-420b-98c2-cd436724aef4",
        "colab": {
          "base_uri": "https://localhost:8080/",
          "height": 34
        }
      },
      "source": [
        "temperatura = [0, 3, 4, 5, 7, 6]\n",
        "print (temperatura[1]) "
      ],
      "execution_count": 90,
      "outputs": [
        {
          "output_type": "stream",
          "text": [
            "3\n"
          ],
          "name": "stdout"
        }
      ]
    },
    {
      "cell_type": "code",
      "metadata": {
        "id": "G73tkM7-am-M",
        "colab_type": "code",
        "colab": {}
      },
      "source": [
        "max (temperatura)"
      ],
      "execution_count": 0,
      "outputs": []
    },
    {
      "cell_type": "code",
      "metadata": {
        "id": "5Bsvxt6ldark",
        "colab_type": "code",
        "outputId": "b75276b4-82b0-482b-f059-6e0d59f7d7b4",
        "colab": {
          "base_uri": "https://localhost:8080/",
          "height": 34
        }
      },
      "source": [
        "media = sum (temperatura)/len(temperatura)\n",
        "print (int(media))"
      ],
      "execution_count": 78,
      "outputs": [
        {
          "output_type": "stream",
          "text": [
            "4\n"
          ],
          "name": "stdout"
        }
      ]
    },
    {
      "cell_type": "code",
      "metadata": {
        "id": "x_jGFkcBhGp1",
        "colab_type": "code",
        "outputId": "c693c8be-7dd9-43f1-e9d1-dbc6bd419a0d",
        "colab": {
          "base_uri": "https://localhost:8080/",
          "height": 34
        }
      },
      "source": [
        "temperatura.append(2)\n",
        "print(temperatura)"
      ],
      "execution_count": 91,
      "outputs": [
        {
          "output_type": "stream",
          "text": [
            "[0, 3, 4, 5, 7, 6, 2]\n"
          ],
          "name": "stdout"
        }
      ]
    },
    {
      "cell_type": "code",
      "metadata": {
        "colab_type": "code",
        "outputId": "eafe6d3f-8092-4467-c05b-2a791604941e",
        "id": "IZhEcZrq40rJ",
        "colab": {
          "base_uri": "https://localhost:8080/",
          "height": 34
        }
      },
      "source": [
        "#multiplica valores da lista por 2\n",
        "\n",
        "#n=[0,3,4,5,7,6,2]\n",
        "#n=temperatura\n",
        "def dobro(x):\n",
        "    for i in range(0, len(x)):\n",
        "        x[i]=x[i]*2\n",
        "    return x\n",
        "#print (dobro(n))\n",
        "temperatura2= dobro(temperatura)\n",
        "print(temperatura2)\n",
        "\n"
      ],
      "execution_count": 92,
      "outputs": [
        {
          "output_type": "stream",
          "text": [
            "[0, 6, 8, 10, 14, 12, 4]\n"
          ],
          "name": "stdout"
        }
      ]
    },
    {
      "cell_type": "markdown",
      "metadata": {
        "id": "LO5tyl4AprsJ",
        "colab_type": "text"
      },
      "source": [
        "# Exemplos de Gráfico:"
      ]
    },
    {
      "cell_type": "code",
      "metadata": {
        "id": "Zm2is7Mkm3IY",
        "colab_type": "code",
        "colab": {
          "base_uri": "https://localhost:8080/",
          "height": 281
        },
        "outputId": "3a1d0b18-0618-48dd-b6b9-cf40350eb751"
      },
      "source": [
        "from matplotlib import pyplot as plt\n",
        "\n",
        "x = [x for x in range(len(temperatura2))]\n",
        "plt.plot(x, temperatura2, '-')\n",
        "plt.title(\"Temperatura medida na Estufa\")\n",
        "plt.show()"
      ],
      "execution_count": 93,
      "outputs": [
        {
          "output_type": "display_data",
          "data": {
            "image/png": "[encoded data removed]",
            "text/plain": [
              "<Figure size 432x288 with 1 Axes>"
            ]
          },
          "metadata": {
            "tags": [],
            "needs_background": "light"
          }
        }
      ]
    },
    {
      "cell_type": "code",
      "metadata": {
        "id": "13oJkvnavk6s",
        "colab_type": "code",
        "colab": {
          "base_uri": "https://localhost:8080/",
          "height": 225
        },
        "outputId": "6411bcc5-1feb-40f1-fee4-a92d50612b90"
      },
      "source": [
        "#https://realpython.com/python-matplotlib-guide/\n",
        "from matplotlib import pyplot as plt\n",
        "\n",
        "x = [x for x in range(len(temperatura))]\n",
        "\n",
        "fig, ax = plt.subplots(figsize=(5, 3))\n",
        "ax.stackplot(x, temperatura, labels=['ºC'])\n",
        "ax.set_title('Medida temperatura na estufa')\n",
        "ax.legend(loc='upper left')\n",
        "ax.set_ylabel('temperatura medida')\n",
        "ax.set_xlabel('nº de medidas')\n",
        "ax.set_ylim(0, 20)\n",
        "ax.set_xlim(0,len(temperatura))\n",
        "ax.grid(axis='both')\n",
        "fig.tight_layout()"
      ],
      "execution_count": 98,
      "outputs": [
        {
          "output_type": "display_data",
          "data": {
            "image/png": "[encoded data removed]",
            "text/plain": [
              "<Figure size 360x216 with 1 Axes>"
            ]
          },
          "metadata": {
            "tags": [],
            "needs_background": "light"
          }
        }
      ]
    }
  ]
}