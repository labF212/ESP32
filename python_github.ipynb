{
  "nbformat": 4,
  "nbformat_minor": 0,
  "metadata": {
    "colab": {
      "name": "python_github.ipynb",
      "provenance": [],
      "authorship_tag": "ABX9TyNKNhXX6K4JIRnEqw4W+naL",
      "include_colab_link": true
    },
    "kernelspec": {
      "name": "python3",
      "display_name": "Python 3"
    }
  },
  "cells": [
    {
      "cell_type": "markdown",
      "metadata": {
        "id": "view-in-github",
        "colab_type": "text"
      },
      "source": [
        "<a href=\"https://colab.research.google.com/github/labF212/ESP32/blob/master/python_github.ipynb\" target=\"_parent\"><img src=\"https://colab.research.google.com/assets/colab-badge.svg\" alt=\"Open In Colab\"/></a>"
      ]
    },
    {
      "cell_type": "markdown",
      "metadata": {
        "id": "5bSJevjkWz3T",
        "colab_type": "text"
      },
      "source": [
        "#Olá seja bem vindo a este manual de python escrito em Jupyter.\n",
        "\n",
        "##Declaração de variáveis"
      ]
    },
    {
      "cell_type": "code",
      "metadata": {
        "id": "17ivLAvQmwIO",
        "colab_type": "code",
        "colab": {}
      },
      "source": [
        "a = 1\n",
        "b = 1.0"
      ],
      "execution_count": 0,
      "outputs": []
    },
    {
      "cell_type": "markdown",
      "metadata": {
        "id": "-3NN8w56X6FL",
        "colab_type": "text"
      },
      "source": [
        "\n",
        "\n",
        "*   a é um inteiro \n",
        "*   b é um decimal\n",
        "\n",
        "## Imprimir Variáveis\n",
        "\n",
        "\n"
      ]
    },
    {
      "cell_type": "code",
      "metadata": {
        "id": "fc30slNhX5Zh",
        "colab_type": "code",
        "outputId": "00c28b68-2b09-4c36-fd6f-bc068839c303",
        "colab": {
          "base_uri": "https://localhost:8080/",
          "height": 69
        }
      },
      "source": [
        "print (a)\n",
        "print (b)\n",
        "print (a+b)"
      ],
      "execution_count": 0,
      "outputs": [
        {
          "output_type": "stream",
          "text": [
            "1\n",
            "1.0\n",
            "2.0\n"
          ],
          "name": "stdout"
        }
      ]
    },
    {
      "cell_type": "markdown",
      "metadata": {
        "id": "WNMXfSfuZlbb",
        "colab_type": "text"
      },
      "source": [
        "Como vemos a+b dá origem a um decimal.\n",
        "\n",
        "#Listas"
      ]
    },
    {
      "cell_type": "code",
      "metadata": {
        "id": "z6b13R3bZ4K2",
        "colab_type": "code",
        "outputId": "ca918a5c-1823-4e13-b02f-fe20505c8f66",
        "colab": {
          "base_uri": "https://localhost:8080/",
          "height": 34
        }
      },
      "source": [
        "temperatura = [0, 3, 4, 5, 7, 6]\n",
        "print (temperatura[1]) "
      ],
      "execution_count": 2,
      "outputs": [
        {
          "output_type": "stream",
          "text": [
            "3\n"
          ],
          "name": "stdout"
        }
      ]
    },
    {
      "cell_type": "code",
      "metadata": {
        "id": "G73tkM7-am-M",
        "colab_type": "code",
        "outputId": "ff9485a8-5c63-4e76-b17f-737a494fb0d2",
        "colab": {
          "base_uri": "https://localhost:8080/",
          "height": 34
        }
      },
      "source": [
        "max (temperatura)"
      ],
      "execution_count": 3,
      "outputs": [
        {
          "output_type": "execute_result",
          "data": {
            "text/plain": [
              "7"
            ]
          },
          "metadata": {
            "tags": []
          },
          "execution_count": 3
        }
      ]
    },
    {
      "cell_type": "code",
      "metadata": {
        "id": "5Bsvxt6ldark",
        "colab_type": "code",
        "outputId": "c37c9bac-dc5c-42f0-a475-06bf60bf7c4f",
        "colab": {
          "base_uri": "https://localhost:8080/",
          "height": 34
        }
      },
      "source": [
        "media = sum (temperatura)/len(temperatura)\n",
        "print (int(media))"
      ],
      "execution_count": 4,
      "outputs": [
        {
          "output_type": "stream",
          "text": [
            "4\n"
          ],
          "name": "stdout"
        }
      ]
    },
    {
      "cell_type": "code",
      "metadata": {
        "id": "x_jGFkcBhGp1",
        "colab_type": "code",
        "colab": {
          "base_uri": "https://localhost:8080/",
          "height": 34
        },
        "outputId": "5514d793-a36f-4cca-dd15-72ed629fe7a5"
      },
      "source": [
        "temperatura.append(2)\n",
        "print(temperatura)"
      ],
      "execution_count": 23,
      "outputs": [
        {
          "output_type": "stream",
          "text": [
            "[0, 3, 4, 5, 7, 6, 2, 2, 2]\n"
          ],
          "name": "stdout"
        }
      ]
    },
    {
      "cell_type": "code",
      "metadata": {
        "id": "BNUD203ghzKI",
        "colab_type": "code",
        "colab": {
          "base_uri": "https://localhost:8080/",
          "height": 34
        },
        "outputId": "7439bfa9-b635-45c7-c8e6-ab1566935856"
      },
      "source": [
        "#multiplica valores da lista por 2\n",
        "n = [3, 5, 7]\n",
        "def doble_lista(x):\n",
        "    for i in range(0, len(x)):\n",
        "        x[i]=x[i]*2\n",
        "    return x\n",
        "print (doble_lista(n))\n"
      ],
      "execution_count": 27,
      "outputs": [
        {
          "output_type": "stream",
          "text": [
            "[6, 10, 14]\n"
          ],
          "name": "stdout"
        }
      ]
    }
  ]
}