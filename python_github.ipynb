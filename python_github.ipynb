{
  "nbformat": 4,
  "nbformat_minor": 0,
  "metadata": {
    "colab": {
      "name": "python_github.ipynb",
      "provenance": [],
      "authorship_tag": "ABX9TyNKNhXX6K4JIRnEqw4W+naL",
      "include_colab_link": true
    },
    "kernelspec": {
      "name": "python3",
      "display_name": "Python 3"
    }
  },
  "cells": [
    {
      "cell_type": "markdown",
      "metadata": {
        "id": "view-in-github",
        "colab_type": "text"
      },
      "source": [
        "<a href=\"https://colab.research.google.com/github/labF212/ESP32/blob/master/python_github.ipynb\" target=\"_parent\"><img src=\"https://colab.research.google.com/assets/colab-badge.svg\" alt=\"Open In Colab\"/></a>"
      ]
    },
    {
      "cell_type": "markdown",
      "metadata": {
        "id": "5bSJevjkWz3T",
        "colab_type": "text"
      },
      "source": [
        "#Olá seja bem vindo a este manual de python escrito em Jupyter.\n",
        "\n",
        "##Declaração de variáveis"
      ]
    },
    {
      "cell_type": "code",
      "metadata": {
        "id": "17ivLAvQmwIO",
        "colab_type": "code",
        "colab": {}
      },
      "source": [
        "a = 1\n",
        "b = 1.0"
      ],
      "execution_count": 0,
      "outputs": []
    },
    {
      "cell_type": "markdown",
      "metadata": {
        "id": "-3NN8w56X6FL",
        "colab_type": "text"
      },
      "source": [
        "\n",
        "\n",
        "*   a é um inteiro \n",
        "*   b é um decimal\n",
        "\n",
        "## Imprimir Variáveis\n",
        "\n",
        "\n"
      ]
    },
    {
      "cell_type": "code",
      "metadata": {
        "id": "fc30slNhX5Zh",
        "colab_type": "code",
        "outputId": "00c28b68-2b09-4c36-fd6f-bc068839c303",
        "colab": {
          "base_uri": "https://localhost:8080/",
          "height": 69
        }
      },
      "source": [
        "print (a)\n",
        "print (b)\n",
        "print (a+b)"
      ],
      "execution_count": 0,
      "outputs": [
        {
          "output_type": "stream",
          "text": [
            "1\n",
            "1.0\n",
            "2.0\n"
          ],
          "name": "stdout"
        }
      ]
    },
    {
      "cell_type": "markdown",
      "metadata": {
        "id": "WNMXfSfuZlbb",
        "colab_type": "text"
      },
      "source": [
        "Como vemos a+b dá origem a um decimal.\n",
        "\n",
        "#Listas"
      ]
    },
    {
      "cell_type": "code",
      "metadata": {
        "id": "z6b13R3bZ4K2",
        "colab_type": "code",
        "outputId": "dce5844c-bfb1-43d2-a454-654f4724b098",
        "colab": {
          "base_uri": "https://localhost:8080/",
          "height": 34
        }
      },
      "source": [
        "temperatura = [0, 3, 4, 5, 7, 6]\n",
        "print (temperatura[1]) "
      ],
      "execution_count": 29,
      "outputs": [
        {
          "output_type": "stream",
          "text": [
            "3\n"
          ],
          "name": "stdout"
        }
      ]
    },
    {
      "cell_type": "code",
      "metadata": {
        "id": "G73tkM7-am-M",
        "colab_type": "code",
        "outputId": "7be98624-6efa-440f-d1f7-a755ff4c9fc8",
        "colab": {
          "base_uri": "https://localhost:8080/",
          "height": 34
        }
      },
      "source": [
        "max (temperatura)"
      ],
      "execution_count": 30,
      "outputs": [
        {
          "output_type": "execute_result",
          "data": {
            "text/plain": [
              "7"
            ]
          },
          "metadata": {
            "tags": []
          },
          "execution_count": 30
        }
      ]
    },
    {
      "cell_type": "code",
      "metadata": {
        "id": "5Bsvxt6ldark",
        "colab_type": "code",
        "outputId": "45afb797-8b65-482b-b18b-31808e39b336",
        "colab": {
          "base_uri": "https://localhost:8080/",
          "height": 34
        }
      },
      "source": [
        "media = sum (temperatura)/len(temperatura)\n",
        "print (int(media))"
      ],
      "execution_count": 31,
      "outputs": [
        {
          "output_type": "stream",
          "text": [
            "4\n"
          ],
          "name": "stdout"
        }
      ]
    },
    {
      "cell_type": "code",
      "metadata": {
        "id": "x_jGFkcBhGp1",
        "colab_type": "code",
        "colab": {
          "base_uri": "https://localhost:8080/",
          "height": 34
        },
        "outputId": "da53fed9-9fb2-47c1-c893-15cacf778be2"
      },
      "source": [
        "temperatura.append(2)\n",
        "print(temperatura)"
      ],
      "execution_count": 32,
      "outputs": [
        {
          "output_type": "stream",
          "text": [
            "[0, 3, 4, 5, 7, 6, 2]\n"
          ],
          "name": "stdout"
        }
      ]
    },
    {
      "cell_type": "code",
      "metadata": {
        "id": "BNUD203ghzKI",
        "colab_type": "code",
        "colab": {
          "base_uri": "https://localhost:8080/",
          "height": 34
        },
        "outputId": "e0159336-0157-46e0-b202-8f12d5f02eff"
      },
      "source": [
        "#multiplica valores da lista por 2\n",
        "n = [3, 5, 7]\n",
        "def doble_lista(x):\n",
        "    for i in range(0, len(x)):\n",
        "        x[i]=x[i]*2\n",
        "    return x\n",
        "print (doble_lista(n))\n"
      ],
      "execution_count": 33,
      "outputs": [
        {
          "output_type": "stream",
          "text": [
            "[6, 10, 14]\n"
          ],
          "name": "stdout"
        }
      ]
    }
  ]
}